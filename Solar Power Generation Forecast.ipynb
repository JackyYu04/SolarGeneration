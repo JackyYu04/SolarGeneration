{
 "cells": [
  {
   "cell_type": "code",
   "execution_count": 1,
   "id": "f7603a2b",
   "metadata": {},
   "outputs": [
    {
     "name": "stderr",
     "output_type": "stream",
     "text": [
      "E:\\Python\\MachineLearning\\lib\\site-packages\\scipy\\__init__.py:177: UserWarning: A NumPy version >=1.18.5 and <1.26.0 is required for this version of SciPy (detected version 1.26.2\n",
      "  warnings.warn(f\"A NumPy version >={np_minversion} and <{np_maxversion}\"\n"
     ]
    }
   ],
   "source": [
    "import numpy as np\n",
    "import matplotlib.pyplot as plt\n",
    "import pandas as pand\n",
    "import math\n",
    "import array\n",
    "from sklearn import tree\n",
    "from sklearn import datasets\n",
    "from sklearn.metrics import accuracy_score\n",
    "from sklearn.model_selection import train_test_split\n",
    "import pydotplus\n",
    "from IPython.display import Image\n",
    "from sklearn.model_selection import StratifiedKFold\n",
    "from sklearn.metrics import confusion_matrix, ConfusionMatrixDisplay\n",
    "import tensorflow as tf\n",
    "import datetime"
   ]
  },
  {
   "cell_type": "code",
   "execution_count": 4,
   "id": "758574de",
   "metadata": {
    "scrolled": true
   },
   "outputs": [
    {
     "name": "stdout",
     "output_type": "stream",
     "text": [
      "(32832, 15)\n",
      "(32829, 15)\n"
     ]
    }
   ],
   "source": [
    "trainingData = pand.read_csv(r'C:\\Users\\Asi\\Downloads\\solar_training.csv')\n",
    "testingData = pand.read_csv(r'C:\\Users\\Asi\\Downloads\\solar_test.csv')\n",
    "print(trainingData.shape)\n",
    "print(testingData.shape)\n",
    "\n",
    "cols = list(trainingData)\n",
    "cols[1],cols[0] = cols[0],cols[1]\n",
    "\n",
    "trainingData = trainingData[cols]\n",
    "testingData = testingData[cols]\n",
    "\n",
    "\n",
    "trainingData['TIMESTAMP'] = pand.to_datetime(trainingData['TIMESTAMP'], format = '%Y%m%d %H:%M:%S')\n",
    "testingData['TIMESTAMP'] = pand.to_datetime(testingData['TIMESTAMP'], format = '%Y%m%d %H:%M')\n",
    "\n",
    "\n",
    "trainingData = trainingData.set_index('TIMESTAMP')\n",
    "testingData = testingData.set_index('TIMESTAMP')\n",
    "\n",
    "\n",
    "grouped = trainingData.groupby('ZONEID')\n",
    "\n",
    "training1 = grouped.get_group(1)\n",
    "training2 = grouped.get_group(2)\n",
    "training3 = grouped.get_group(3)\n",
    "\n",
    "\n",
    "grouped = testingData.groupby('ZONEID')\n",
    "\n",
    "testing1 = grouped.get_group(1)\n",
    "testing2 = grouped.get_group(2)\n",
    "testing3 = grouped.get_group(3)\n",
    "\n",
    "training1= training1.asfreq('H')\n",
    "testing1= testing1.asfreq('H')"
   ]
  },
  {
   "cell_type": "code",
   "execution_count": null,
   "id": "806b9fe7",
   "metadata": {
    "scrolled": true
   },
   "outputs": [],
   "source": [
    "training1 = training1.interpolate()\n",
    "testing1 = testing1.interpolate()\n",
    "training2 = training2.interpolate()\n",
    "testing2 = testing2.interpolate()\n",
    "training3 = training3.interpolate()\n",
    "testing3 = testing3.interpolate()"
   ]
  },
  {
   "cell_type": "code",
   "execution_count": null,
   "id": "6edd6813",
   "metadata": {
    "scrolled": true
   },
   "outputs": [],
   "source": [
    "\"\"\"\"\n",
    "training1['POWER'] = training1.POWER.shift(-24)\n",
    "testing1['POWER'] = testing1.POWER.shift(-24)\n",
    "training2['POWER'] = training2.POWER.shift(-24)\n",
    "testing2['POWER'] = testing2.POWER.shift(-24)\n",
    "training3['POWER'] = training3.POWER.shift(-24)\n",
    "testing3['POWER'] = testing3.POWER.shift(-24)\n",
    "\"\"\"\n",
    "\n",
    "training1['y'] = training1['POWER'].shift(-24)\n",
    "testing1['y'] = testing1['POWER'].shift(-24)\n",
    "training2['y'] = training1['POWER'].shift(-24)\n",
    "testing2['y'] = testing1['POWER'].shift(-24)\n",
    "training3['y'] = training1['POWER'].shift(-24)\n",
    "testing3['y'] = testing1['POWER'].shift(-24)\n",
    "\n",
    "\n",
    "training1 = training1.dropna()\n",
    "testing1 = testing1.dropna()\n",
    "training2 = training2.dropna()\n",
    "testing2 = testing2.dropna()\n",
    "training3 = training3.dropna()\n",
    "testing3 = testing3.dropna()"
   ]
  },
  {
   "cell_type": "code",
   "execution_count": null,
   "id": "b8902a5e",
   "metadata": {},
   "outputs": [],
   "source": [
    "from sklearn.tree import DecisionTreeRegressor\n",
    "\n",
    "dt = DecisionTreeRegressor(criterion = 'absolute_error',random_state = 42)\n",
    "\n",
    "\n",
    "xtrain = training1['POWER'].values.reshape(-1,1)\n",
    "ytrain = training1['y'].values.reshape(-1,1)\n",
    "xtest = testing1['POWER'].values.reshape(-1,1)\n",
    "dt.fit(X=xtrain,y=ytrain)\n",
    "pred = dt.predict(xtest)\n",
    "testing1['prediction'] = pred\n",
    "\n",
    "\n",
    "xtrain = training2['POWER'].values.reshape(-1,1)\n",
    "ytrain = training2['y'].values.reshape(-1,1)\n",
    "xtest = testing2['POWER'].values.reshape(-1,1)\n",
    "dt.fit(X=xtrain,y=ytrain)\n",
    "pred = dt.predict(xtest)\n",
    "testing2['prediction'] = pred\n",
    "\n",
    "\n",
    "xtrain = training3['POWER'].values.reshape(-1,1)\n",
    "ytrain = training3['y'].values.reshape(-1,1)\n",
    "xtest = testing3['POWER'].values.reshape(-1,1)\n",
    "dt.fit(X=xtrain,y=ytrain)\n",
    "pred = dt.predict(xtest)\n",
    "testing3['prediction'] = pred\n"
   ]
  },
  {
   "cell_type": "code",
   "execution_count": null,
   "id": "b676e0e3",
   "metadata": {
    "scrolled": false
   },
   "outputs": [],
   "source": [
    "\n",
    "\n",
    "\n",
    "fig, ax=plt.subplots(figsize = (50,20))\n",
    "training1['POWER'].plot(ax = ax, label = 'training1', marker = '.', linewidth = .15)\n",
    "testing1['POWER'].plot( ax=ax, label = 'testing1', marker = '.', linewidth = .15)\n",
    "testing1['prediction'].plot(ax = ax, label = 'test1 prediction', marker = '.', linewidth = .15)\n",
    "training2.plot(y = 'POWER', ax = ax, label = 'training2', marker = '.', linewidth = .15)\n",
    "testing2.plot(y = 'POWER', ax=ax, label = 'testing2', marker = '.', linewidth = .15)\n",
    "testing2['prediction'].plot(ax = ax, label = 'test2 prediction', marker = '.', linewidth = .15)\n",
    "training3.plot(y = 'POWER', ax = ax, label = 'training3', marker = '.', linewidth = .15)\n",
    "testing3.plot(y = 'POWER', ax=ax, label = 'testing3', marker = '.', linewidth = .15)\n",
    "testing3['prediction'].plot(ax = ax, label = 'test3 prediction', marker = '.', linewidth = .15)\n",
    "ax.legend();"
   ]
  },
  {
   "cell_type": "code",
   "execution_count": null,
   "id": "86a2bd89",
   "metadata": {
    "scrolled": true
   },
   "outputs": [],
   "source": [
    "from sklearn.metrics import mean_absolute_error\n",
    "from sklearn.metrics import mean_squared_error\n",
    "\n",
    "MAE1 = mean_absolute_error(testing1['POWER'].iloc[:24],testing1['prediction'].iloc[:24])\n",
    "MAE2 = mean_absolute_error(testing2['POWER'].iloc[:24],testing2['prediction'].iloc[:24])\n",
    "MAE3 = mean_absolute_error(testing3['POWER'].iloc[:24],testing3['prediction'].iloc[:24])\n",
    "\n",
    "\n",
    "print(\"Mean absolute error of test1:%lf\" %MAE1)\n",
    "print(\"Mean absolute error of test2:%lf\" %MAE2)\n",
    "print(\"Mean absolute error of test3:%lf\" %MAE3)\n",
    "\n",
    "print(\"Root mean squared error of test1:%lf\" %math.sqrt(MAE1))\n",
    "print(\"Root mean squared error of test2:%lf\"%math.sqrt(MAE2))\n",
    "print(\"Root mean squared error of test3:%lf\"%math.sqrt(MAE3))\n"
   ]
  },
  {
   "cell_type": "code",
   "execution_count": null,
   "id": "a77380e4",
   "metadata": {},
   "outputs": [],
   "source": [
    "MAE1 = mean_absolute_error(testing1['POWER'],testing1['prediction'])\n",
    "MAE2 = mean_absolute_error(testing1['POWER'],testing2['prediction'])\n",
    "MAE3 = mean_absolute_error(testing1['POWER'],testing3['prediction'])\n",
    "\n",
    "\n",
    "print(\"Mean absolute error of test1 with all values:%lf\" %MAE1)\n",
    "print(\"Mean absolute error of test2 with all values:%lf\" %MAE2)\n",
    "print(\"Mean absolute error of test3 with all values:%lf\" %MAE3)\n",
    "\n",
    "print(\"Root mean squared error of test1 with all values:%lf\" %math.sqrt(MAE1))\n",
    "print(\"Root mean squared error of test2 with all values:%lf\" %math.sqrt(MAE2))\n",
    "print(\"Root mean squared error of test3 with all values:%lf\" %math.sqrt(MAE3))\n"
   ]
  },
  {
   "cell_type": "code",
   "execution_count": null,
   "id": "dffea138",
   "metadata": {},
   "outputs": [],
   "source": [
    "fig, ax=plt.subplots(figsize = (20,10))\n",
    "testing1['POWER'].iloc[:24].plot( ax=ax, label = 'testing1', marker = '.')\n",
    "testing1['prediction'].iloc[:24].plot(ax = ax, label = 'test1 prediction', marker = '.')\n",
    "testing2['POWER'].iloc[:24].plot( ax=ax, label = 'testing2', marker = '.')\n",
    "testing2['prediction'].iloc[:24].plot(ax = ax, label = 'test2 prediction', marker = '.')\n",
    "testing3['POWER'].iloc[:24].plot( ax=ax, label = 'testing3', marker = '.')\n",
    "testing3['prediction'].iloc[:24].plot(ax = ax, label = 'test3 prediction', marker = '.')\n",
    "ax.legend();"
   ]
  },
  {
   "cell_type": "code",
   "execution_count": null,
   "id": "630bd7dd",
   "metadata": {},
   "outputs": [],
   "source": [
    "df = pand.DataFrame({\"A\":[12, 4, 5, None, 1], \n",
    "                   \"B\":[7, 2, 54, 3, None], \n",
    "                   \"C\":[20, 16, 11, 3, 8], \n",
    "                   \"D\":[14, 3, None, 2, 6]}) \n",
    "\n",
    "result = df.loc[:, ['A', 'D']]\n",
    "\n",
    "df['EE'] = [14, 3, None, 2, 6]\n",
    "\n",
    "df"
   ]
  },
  {
   "cell_type": "code",
   "execution_count": null,
   "id": "800711dd",
   "metadata": {},
   "outputs": [],
   "source": [
    "result = df.iloc[2:]\n",
    "\n",
    "print(result)"
   ]
  },
  {
   "cell_type": "code",
   "execution_count": null,
   "id": "25f7a4d6",
   "metadata": {},
   "outputs": [],
   "source": [
    "result = df.iloc[2:,1]\n",
    "\n",
    "print(result)"
   ]
  },
  {
   "cell_type": "code",
   "execution_count": null,
   "id": "0b075be2",
   "metadata": {},
   "outputs": [],
   "source": [
    "result = df.iloc[1:,2]\n",
    "\n",
    "print(result)"
   ]
  },
  {
   "cell_type": "code",
   "execution_count": null,
   "id": "3a7e83c0",
   "metadata": {},
   "outputs": [],
   "source": [
    "result = df.iloc[1,:2]\n",
    "\n",
    "print(result)"
   ]
  },
  {
   "cell_type": "code",
   "execution_count": null,
   "id": "a453adc7",
   "metadata": {},
   "outputs": [],
   "source": []
  }
 ],
 "metadata": {
  "kernelspec": {
   "display_name": "Python 3 (ipykernel)",
   "language": "python",
   "name": "python3"
  },
  "language_info": {
   "codemirror_mode": {
    "name": "ipython",
    "version": 3
   },
   "file_extension": ".py",
   "mimetype": "text/x-python",
   "name": "python",
   "nbconvert_exporter": "python",
   "pygments_lexer": "ipython3",
   "version": "3.9.13"
  }
 },
 "nbformat": 4,
 "nbformat_minor": 5
}
